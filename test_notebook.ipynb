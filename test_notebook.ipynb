{
 "cells": [
  {
   "cell_type": "code",
   "execution_count": 2,
   "id": "06bd3e19",
   "metadata": {},
   "outputs": [],
   "source": [
    "import os\n",
    "import sys\n",
    "\n",
    "current_dir = os.getcwd()\n",
    "test_path = os.path.join(current_dir, 'test')\n",
    "if test_path not in sys.path:\n",
    "    sys.path.append(test_path)\n",
    "\n",
    "src_path = os.path.join(current_dir, 'src')\n",
    "if src_path not in sys.path:\n",
    "    sys.path.append(src_path)\n",
    "\n",
    "\n",
    "from test_interface import (\n",
    "    test_all, \n",
    "    test_video_processor, \n",
    "    test_audio_processor,\n",
    "    test_frame_analyzer,\n",
    "    test_multimodal_extractor,\n",
    "    test_feature_extractor,\n",
    "    get_test_summary\n",
    ")\n",
    "   "
   ]
  },
  {
   "cell_type": "code",
   "execution_count": null,
   "id": "f6f3c11a",
   "metadata": {},
   "outputs": [],
   "source": [
    "success = test_all()"
   ]
  },
  {
   "cell_type": "code",
   "execution_count": null,
   "id": "de8992df",
   "metadata": {},
   "outputs": [],
   "source": [
    "video_success = test_video_processor()"
   ]
  },
  {
   "cell_type": "code",
   "execution_count": null,
   "id": "a02b3a62",
   "metadata": {},
   "outputs": [],
   "source": [
    "audio_success = test_audio_processor()"
   ]
  },
  {
   "cell_type": "code",
   "execution_count": null,
   "id": "39564144",
   "metadata": {},
   "outputs": [],
   "source": [
    "frame_success = test_frame_analyzer()"
   ]
  },
  {
   "cell_type": "code",
   "execution_count": null,
   "id": "44fe4bfd",
   "metadata": {},
   "outputs": [],
   "source": [
    "multimodal_extractor_success = test_multimodal_extractor()"
   ]
  },
  {
   "cell_type": "code",
   "execution_count": null,
   "id": "99eb090f",
   "metadata": {},
   "outputs": [],
   "source": [
    "feature_extractor_success = test_feature_extractor()"
   ]
  },
  {
   "cell_type": "code",
   "execution_count": null,
   "id": "2cd54ff8",
   "metadata": {},
   "outputs": [],
   "source": [
    "summary = get_test_summary()\n",
    "if summary:\n",
    "    print(f\"Success rate: {summary.success_rate:.1f}%\")"
   ]
  }
 ],
 "metadata": {
  "kernelspec": {
   "display_name": "Python 3 (ipykernel)",
   "language": "python",
   "name": "python3"
  },
  "language_info": {
   "codemirror_mode": {
    "name": "ipython",
    "version": 3
   },
   "file_extension": ".py",
   "mimetype": "text/x-python",
   "name": "python",
   "nbconvert_exporter": "python",
   "pygments_lexer": "ipython3",
   "version": "3.8.10"
  }
 },
 "nbformat": 4,
 "nbformat_minor": 5
}
